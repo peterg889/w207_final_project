{
 "cells": [
  {
   "cell_type": "code",
   "execution_count": 119,
   "metadata": {
    "collapsed": true
   },
   "outputs": [],
   "source": [
    "# General libraries.\n",
    "import numpy as np\n",
    "import pandas as pd \n",
    "import matplotlib.pyplot as plt\n",
    "from datetime import datetime\n",
    "import calendar\n",
    "\n",
    "# SK-learn libraries for learning.\n",
    "from sklearn.pipeline import Pipeline\n",
    "from sklearn.neighbors import KNeighborsClassifier\n",
    "from sklearn.grid_search import GridSearchCV\n",
    "\n",
    "# SK-learn libraries for evaluation.\n",
    "from sklearn.metrics import confusion_matrix\n",
    "from sklearn import metrics\n",
    "from sklearn.metrics import classification_report\n",
    "from sklearn import linear_model"
   ]
  },
  {
   "cell_type": "code",
   "execution_count": 197,
   "metadata": {
    "collapsed": false,
    "scrolled": false
   },
   "outputs": [],
   "source": [
    "# Note -- I experimented with both np arrays and numpy. I ultimately went with pandas, but left in the\n",
    "# np generatin in case anyone else wanted to play around\n",
    "\n",
    "train_csv = \"/Users/petergrabowski/Desktop/train.csv\" # you will need to edit this directory\n",
    "train_types = (datetime, int, bool, bool, int, float, float, int, float, int, int, int)\n",
    "train = np.genfromtxt(train_csv,delimiter=',',dtype=train_types, names=True)\n",
    "\n",
    "train_pd = pd.read_csv(train_csv)\n",
    "\n",
    "test_csv = \"/Users/petergrabowski/Desktop/test.csv\" # you will need to edit this directory\n",
    "test_types = (datetime, int, bool, bool, int, float, float, int, float)\n",
    "test = np.genfromtxt(test_csv,delimiter=',',dtype=test_types,names=True)\n",
    "test_pd = pd.read_csv(test_csv)"
   ]
  },
  {
   "cell_type": "code",
   "execution_count": 198,
   "metadata": {
    "collapsed": false
   },
   "outputs": [
    {
     "name": "stdout",
     "output_type": "stream",
     "text": [
      "('datetime', 'season', 'holiday', 'workingday', 'weather', 'temp', 'atemp', 'humidity', 'windspeed', 'casual', 'registered', 'count')\n",
      "('2011-01-01 00:00:00', 1, False, False, 1, 9.84, 14.395, 81, 0.0, 3, 13, 16)\n",
      "\n",
      "('datetime', 'season', 'holiday', 'workingday', 'weather', 'temp', 'atemp', 'humidity', 'windspeed')\n",
      "('2011-01-20 00:00:00', 1, False, False, 1, 10.66, 11.365, 56, 26.0027)\n"
     ]
    }
   ],
   "source": [
    "print train.dtype.names\n",
    "print train[0]\n",
    "print\n",
    "print test.dtype.names\n",
    "print test[0]"
   ]
  },
  {
   "cell_type": "code",
   "execution_count": 199,
   "metadata": {
    "collapsed": false
   },
   "outputs": [],
   "source": [
    "# feature engineering\n",
    "\n",
    "day_map = {0: 'Monday', \n",
    "           1: 'Tuesday', \n",
    "           2 : 'Wednesday', \n",
    "           3 : 'Thursday', \n",
    "           4 : 'Friday', \n",
    "           5 : \"Saturday\", \n",
    "           6 : \"Sunday\"}\n",
    "\n",
    "month_map = {1: \"January\",\n",
    "             2 : \"February\",\n",
    "             3 : \"March\",\n",
    "             4 : \"April\",\n",
    "             5 : \"May\",\n",
    "             6 : \"June\",\n",
    "             7 : \"July\",\n",
    "             8 : \"August\",\n",
    "             9 : \"September\",\n",
    "             10 : \"October\",\n",
    "             11 : \"November\",\n",
    "             12 : \"December\"}\n",
    "\n",
    "season_map = {1: \"Spring\", \n",
    "              2 : \"Summer\", \n",
    "              3 : \"Fall\", \n",
    "              4 :\"Winter\" }\n",
    "\n",
    "weather_map = {1: \" Clear + Few clouds + Partly cloudy + Partly cloudy\",\n",
    "               2 : \" Mist + Cloudy, Mist + Broken clouds, Mist + Few clouds, Mist \", \n",
    "               3 : \" Light Snow, Light Rain + Thunderstorm + Scattered clouds, Light Rain + Scattered clouds\", \n",
    "               4 :\" Heavy Rain + Ice Pallets + Thunderstorm + Mist, Snow + Fog \" }\n",
    "\n",
    "def getDayNameFromTimestamp(x):\n",
    "    datestr =  str(x).split()[0]\n",
    "    weekday_num = datetime.strptime(datestr,\"%Y-%m-%d\").weekday()\n",
    "    return day_map[weekday_num]\n",
    "\n",
    "def getDateFromTimestamp(x):\n",
    "    return str(x).split()[0]\n",
    "    \n",
    "def getHourFromTimestamp(x):\n",
    "    return str(x).split()[1].split(\":\")[0]\n",
    "\n",
    "def getWeekdayNameFromTimestamp(x):\n",
    "    datestr =  str(x).split()[0]\n",
    "    day_num = datetime.strptime(datestr,\"%Y-%m-%d\").weekday()\n",
    "    return day_map[day_num]\n",
    "\n",
    "def getMonthNameFromTimestamp(x):\n",
    "    datestr =  str(x).split()[0]\n",
    "    month_num = datetime.strptime(datestr,\"%Y-%m-%d\").month\n",
    "    return month_map[month_num]\n",
    "    \n",
    "    \n",
    "train_pd['date'] = train_pd['datetime'].apply(lambda x: getDateFromTimestamp(x))\n",
    "train_pd['hour'] = train_pd['datetime'].apply(lambda x: getHourFromTimestamp(x))\n",
    "train_pd[\"weekday\"] = train_pd['datetime'].apply(lambda x : getDayNameFromTimestamp(x))\n",
    "train_pd[\"month\"] =  train_pd['datetime'].apply(lambda x : getMonthNameFromTimestamp(x))\n",
    "train_pd[\"season_str\"] = train_pd['season'].map(season_map)\n",
    "train_pd[\"weather_str\"] = train_pd['weather'].map(weather_map)\n",
    "train_pd[\"is_nice_weather\"] = train_pd['weather'].apply(lambda x : x <= 2)"
   ]
  },
  {
   "cell_type": "code",
   "execution_count": 200,
   "metadata": {
    "collapsed": false
   },
   "outputs": [],
   "source": [
    "# more feature engineering -- make columns be categorical\n",
    "categoricalColumns = [\"hour\",\n",
    "                      \"weekday\",\n",
    "                      \"month\",\n",
    "                      \"season\", \n",
    "                      \"season_str\",\n",
    "                      \"weather\", \n",
    "                      \"weather_str\",\n",
    "                      \"holiday\",\n",
    "                      \"workingday\",\n",
    "                      \"is_nice_weather\"]\n",
    "\n",
    "for column in categoricalColumns:\n",
    "    train_pd[column] = train_pd[column].astype(\"category\")  "
   ]
  },
  {
   "cell_type": "code",
   "execution_count": null,
   "metadata": {
    "collapsed": true
   },
   "outputs": [],
   "source": [
    "# TODO -- detect missing data"
   ]
  },
  {
   "cell_type": "code",
   "execution_count": null,
   "metadata": {
    "collapsed": true
   },
   "outputs": [],
   "source": [
    "# TODO -- assess distribution/skewness"
   ]
  },
  {
   "cell_type": "code",
   "execution_count": null,
   "metadata": {
    "collapsed": true
   },
   "outputs": [],
   "source": [
    "# TODO -- visualize counts over time by hour of day, day of week, month, season"
   ]
  },
  {
   "cell_type": "code",
   "execution_count": null,
   "metadata": {
    "collapsed": true
   },
   "outputs": [],
   "source": [
    "# TODO -- model predictions, iterations, and improvements below"
   ]
  },
  {
   "cell_type": "code",
   "execution_count": 196,
   "metadata": {
    "collapsed": false,
    "scrolled": false
   },
   "outputs": [],
   "source": [
    "# initial dummy guess\n",
    "import csv\n",
    "\n",
    "def writeToCSV(file_name, header=None):\n",
    "    with open(file_name,'w') as f:\n",
    "        writer=csv.writer(f)\n",
    "        if header:\n",
    "            writer.writerow(header) # write header row\n",
    "\n",
    "        for item in submission:\n",
    "            writer.writerow(item)\n",
    "\n",
    "lm = linear_model.LinearRegression()\n",
    "\n",
    "train_temps = train['temp'].reshape(-1, 1)\n",
    "train_counts = train['count'].reshape(-1, 1)\n",
    "\n",
    "lm.fit(train_temps, train_counts)\n",
    "\n",
    "test_temps = test['temp'].reshape(-1, 1)\n",
    "test_dates = test['datetime']\n",
    "\n",
    "preds = lm.predict(test_temps)\n",
    "\n",
    "submission = zip(test_dates, ( x[0] for x in preds))\n",
    "\n",
    "file_name = '/Users/petergrabowski/Desktop/preds.csv'\n",
    "header = [\"datetime\", \"count\"]\n",
    "\n",
    "writeToCSV(file_name, header)"
   ]
  },
  {
   "cell_type": "code",
   "execution_count": null,
   "metadata": {
    "collapsed": true
   },
   "outputs": [],
   "source": [
    "# TODO -- other regressor"
   ]
  },
  {
   "cell_type": "code",
   "execution_count": null,
   "metadata": {
    "collapsed": true
   },
   "outputs": [],
   "source": [
    "# TODO -- other regressor"
   ]
  },
  {
   "cell_type": "code",
   "execution_count": null,
   "metadata": {
    "collapsed": true
   },
   "outputs": [],
   "source": [
    "# TODO -- random forest regressor"
   ]
  }
 ],
 "metadata": {
  "anaconda-cloud": {},
  "kernelspec": {
   "display_name": "Python [conda root]",
   "language": "python",
   "name": "conda-root-py"
  },
  "language_info": {
   "codemirror_mode": {
    "name": "ipython",
    "version": 2
   },
   "file_extension": ".py",
   "mimetype": "text/x-python",
   "name": "python",
   "nbconvert_exporter": "python",
   "pygments_lexer": "ipython2",
   "version": "2.7.12"
  }
 },
 "nbformat": 4,
 "nbformat_minor": 1
}
